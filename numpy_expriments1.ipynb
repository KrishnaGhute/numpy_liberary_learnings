{
 "cells": [
  {
   "cell_type": "code",
   "execution_count": 1,
   "id": "8c23c8ee-cdf6-497e-a206-36387ff3c406",
   "metadata": {},
   "outputs": [
    {
     "name": "stdout",
     "output_type": "stream",
     "text": [
      "[1 2 3 4 5]\n",
      "<class 'numpy.ndarray'>\n"
     ]
    }
   ],
   "source": [
    "# if we pass any data type likr list, tuple it will get converted into ndarray\n",
    "#passing list into array\n",
    "import numpy as np\n",
    "arr=np.array([1,2,3,4,5])\n",
    "print(arr)\n",
    "print(type(arr))"
   ]
  },
  {
   "cell_type": "code",
   "execution_count": 2,
   "id": "4a9cc44b-e5e0-46ec-9498-63fa37f167ed",
   "metadata": {},
   "outputs": [
    {
     "name": "stdout",
     "output_type": "stream",
     "text": [
      "[1 2 3 4 5]\n",
      "<class 'numpy.ndarray'>\n"
     ]
    }
   ],
   "source": [
    "# if we pass any data type likr list, tuple it will get converted into ndarray\n",
    "# passing tuple into array\n",
    "arr=np.array((1,2,3,4,5))\n",
    "print(arr)\n",
    "print(type(arr))"
   ]
  },
  {
   "cell_type": "markdown",
   "id": "2125d1e8-8213-44db-976d-b1ac434addaf",
   "metadata": {},
   "source": [
    "# accessing array elements"
   ]
  },
  {
   "cell_type": "code",
   "execution_count": 3,
   "id": "7639da42-cfd6-4a22-8245-835b6ac54f41",
   "metadata": {},
   "outputs": [
    {
     "name": "stdout",
     "output_type": "stream",
     "text": [
      "4\n"
     ]
    }
   ],
   "source": [
    "# accessing 1D array\n",
    "# array index start from 0\n",
    "arr=np.array([1,2,3,4,5])\n",
    "print(arr[3])"
   ]
  },
  {
   "cell_type": "code",
   "execution_count": 4,
   "id": "a64d0ed7-5a31-41c6-bf4b-f289f84d31fe",
   "metadata": {},
   "outputs": [
    {
     "name": "stdout",
     "output_type": "stream",
     "text": [
      "2nd row and 3rd elwment: 7\n"
     ]
    }
   ],
   "source": [
    "#accessing 2D array\n",
    "arr=np.array([[1,2,3,4],[5,6,7,8]])\n",
    "print(\"2nd row and 3rd elwment:\",arr[1,2])"
   ]
  },
  {
   "cell_type": "code",
   "execution_count": 5,
   "id": "73f9e88a-b5f8-4fee-aea0-b4e4a2f6ce36",
   "metadata": {},
   "outputs": [
    {
     "name": "stdout",
     "output_type": "stream",
     "text": [
      "choosing 7 : 7\n"
     ]
    }
   ],
   "source": [
    "#accessing 3D array\n",
    "arr=np.array([[[1,2,3],[4,5,6]],[[7,8,9],[10,11,12]]])\n",
    "print(\"choosing 7 :\",arr[1,0,0])"
   ]
  },
  {
   "cell_type": "code",
   "execution_count": 6,
   "id": "40648616-b908-440a-a131-986f1ac07c76",
   "metadata": {},
   "outputs": [
    {
     "name": "stdout",
     "output_type": "stream",
     "text": [
      "2nd last element from 2nd row: 7\n"
     ]
    }
   ],
   "source": [
    "# negative indexing\n",
    "arr=np.array([[1,2,3,4],[5,6,7,8]])\n",
    "print(\"2nd last element from 2nd row:\",arr[1, -2])"
   ]
  },
  {
   "cell_type": "markdown",
   "id": "bd6d7662-2f0d-44aa-8e4d-770f27b7c80d",
   "metadata": {},
   "source": [
    "# slicing of array\n",
    "#slicing order [start:end:step]\n",
    "#(start<end)"
   ]
  },
  {
   "cell_type": "code",
   "execution_count": 7,
   "id": "9cd017cf-089a-4a67-8cf1-29bf9ae80e70",
   "metadata": {},
   "outputs": [
    {
     "name": "stdout",
     "output_type": "stream",
     "text": [
      "[1 2 3 4]\n"
     ]
    }
   ],
   "source": [
    "# slicing 1D array\n",
    "arr=np.array([1,2,3,4,5])\n",
    "print(arr[0:4])"
   ]
  },
  {
   "cell_type": "code",
   "execution_count": 8,
   "id": "70fb2827-7b99-428b-a194-6df6e8cbed13",
   "metadata": {},
   "outputs": [
    {
     "data": {
      "text/plain": [
       "array([3, 4, 5])"
      ]
     },
     "execution_count": 8,
     "metadata": {},
     "output_type": "execute_result"
    }
   ],
   "source": [
    "# if you want to slice till end live blank afer colon(:)\n",
    "arr[2:]"
   ]
  },
  {
   "cell_type": "code",
   "execution_count": 9,
   "id": "7cf5b312-5b04-4cdd-86c5-ca7c3b049bfe",
   "metadata": {},
   "outputs": [
    {
     "data": {
      "text/plain": [
       "array([1, 2, 3, 4])"
      ]
     },
     "execution_count": 9,
     "metadata": {},
     "output_type": "execute_result"
    }
   ],
   "source": [
    "# if you want to slice from starting live starting blank\n",
    "arr[:4]"
   ]
  },
  {
   "cell_type": "code",
   "execution_count": 10,
   "id": "b198dd73-7207-40a5-9b75-73f45fdfea6e",
   "metadata": {},
   "outputs": [
    {
     "data": {
      "text/plain": [
       "array([3, 4])"
      ]
     },
     "execution_count": 10,
     "metadata": {},
     "output_type": "execute_result"
    }
   ],
   "source": [
    "# negative slicing\n",
    "arr[-3:-1]"
   ]
  },
  {
   "cell_type": "code",
   "execution_count": 11,
   "id": "0fdc5b72-a4bc-48c5-905d-90dc6ccbb348",
   "metadata": {},
   "outputs": [
    {
     "data": {
      "text/plain": [
       "array([], dtype=int64)"
      ]
     },
     "execution_count": 11,
     "metadata": {},
     "output_type": "execute_result"
    }
   ],
   "source": [
    "arr[-1:-3]  # This returns an empty array since the slice starts at index -1 and ends at index -3 (exclusive),\n",
    "            # but slices must move in a positive direction by default (start < end)"
   ]
  },
  {
   "cell_type": "code",
   "execution_count": 12,
   "id": "c7945d2c-8ca6-4107-a72a-51037fde88a2",
   "metadata": {},
   "outputs": [
    {
     "data": {
      "text/plain": [
       "array([1, 3, 5])"
      ]
     },
     "execution_count": 12,
     "metadata": {},
     "output_type": "execute_result"
    }
   ],
   "source": [
    "# stepping through array\n",
    "arr[0:len(arr):2]\n",
    "# or arr[::2]"
   ]
  },
  {
   "cell_type": "code",
   "execution_count": 13,
   "id": "b13f17cc-d244-4a18-acde-7acafcd1e41a",
   "metadata": {},
   "outputs": [
    {
     "name": "stdout",
     "output_type": "stream",
     "text": [
      "5\n"
     ]
    }
   ],
   "source": [
    "print(len(arr))"
   ]
  },
  {
   "cell_type": "markdown",
   "id": "3e728171-2a19-4b1f-8ba5-c9e306051efc",
   "metadata": {},
   "source": [
    "# array data types"
   ]
  },
  {
   "cell_type": "code",
   "execution_count": 14,
   "id": "4432940e-f58d-40f9-9a98-227ddbab67f9",
   "metadata": {},
   "outputs": [
    {
     "name": "stdout",
     "output_type": "stream",
     "text": [
      "[1 2 3 4 5 6]\n",
      "int64\n"
     ]
    }
   ],
   "source": [
    "# python compiler initially self uderstand the data type of the elements.\n",
    "li=[1,2,3,4,5,6]\n",
    "arr=np.array(li)\n",
    "print(arr)\n",
    "print(arr.dtype)"
   ]
  },
  {
   "cell_type": "code",
   "execution_count": 15,
   "id": "325c0626-1c24-4238-8227-41018eb182a7",
   "metadata": {},
   "outputs": [
    {
     "name": "stdout",
     "output_type": "stream",
     "text": [
      "[b'1' b'2' b'3' b'4' b'5' b'6']\n",
      "|S1\n"
     ]
    }
   ],
   "source": [
    "# we can change the data type of the elements by using dtype=\"\".\n",
    "# here we changed the data type from int64 to string.\n",
    "arr=np.array(li,dtype=\"S\")\n",
    "print(arr)\n",
    "print(arr.dtype)"
   ]
  },
  {
   "cell_type": "code",
   "execution_count": 16,
   "id": "87395f4d-bd67-4aaa-aa3e-2fa51ad99bac",
   "metadata": {},
   "outputs": [
    {
     "name": "stdout",
     "output_type": "stream",
     "text": [
      "[1. 2. 3. 4. 5. 6.]\n",
      "float32\n"
     ]
    }
   ],
   "source": [
    "# here we changed the data type from int64 to float.\n",
    "arr=np.array(li,dtype=\"f\")\n",
    "print(arr)\n",
    "print(arr.dtype)"
   ]
  },
  {
   "cell_type": "code",
   "execution_count": 17,
   "id": "5cadd6bf-fb47-4d13-ab1b-6b4fa07a53f9",
   "metadata": {},
   "outputs": [
    {
     "ename": "ValueError",
     "evalue": "invalid literal for int() with base 10: 'a'",
     "output_type": "error",
     "traceback": [
      "\u001b[1;31m---------------------------------------------------------------------------\u001b[0m",
      "\u001b[1;31mValueError\u001b[0m                                Traceback (most recent call last)",
      "Cell \u001b[1;32mIn[17], line 2\u001b[0m\n\u001b[0;32m      1\u001b[0m \u001b[38;5;66;03m# in case if we try to convert string to intiger we will get an error\u001b[39;00m\n\u001b[1;32m----> 2\u001b[0m arr\u001b[38;5;241m=\u001b[39mnp\u001b[38;5;241m.\u001b[39marray([\u001b[38;5;124m'\u001b[39m\u001b[38;5;124ma\u001b[39m\u001b[38;5;124m'\u001b[39m,\u001b[38;5;241m1\u001b[39m,\u001b[38;5;241m2\u001b[39m,\u001b[38;5;241m3\u001b[39m],dtype\u001b[38;5;241m=\u001b[39m\u001b[38;5;124m\"\u001b[39m\u001b[38;5;124mi\u001b[39m\u001b[38;5;124m\"\u001b[39m)\n\u001b[0;32m      3\u001b[0m \u001b[38;5;28mprint\u001b[39m(arr)\n\u001b[0;32m      4\u001b[0m \u001b[38;5;28mprint\u001b[39m(arr\u001b[38;5;241m.\u001b[39mdtype)\n",
      "\u001b[1;31mValueError\u001b[0m: invalid literal for int() with base 10: 'a'"
     ]
    }
   ],
   "source": [
    "# in case if we try to convert string to intiger we will get an error\n",
    "arr=np.array(['a',1,2,3],dtype=\"i\")\n",
    "print(arr)\n",
    "print(arr.dtype)"
   ]
  },
  {
   "cell_type": "code",
   "execution_count": null,
   "id": "9d767f92-6b4d-4dcd-91c8-78f5ebc7e591",
   "metadata": {},
   "outputs": [],
   "source": [
    "# best way to convert array is create copy of existing array using astype() function.\n",
    "arr=np.array([1,4,2,5,3])\n",
    "new_arr=arr.astype('f')\n",
    "print(arr)\n",
    "print(arr.dtype)\n",
    "print(\"new array convertes to float\",new_arr)\n",
    "print(\"new arrays  data type\",new_arr.dtype)"
   ]
  },
  {
   "cell_type": "markdown",
   "id": "1a5d0a17-b8e2-4e8a-87f2-590374e5128b",
   "metadata": {},
   "source": [
    "# Difference between copy() and view()\n",
    "## copy():\n",
    "copy is a new array.<br>\n",
    "changes made in copy does not affect array.<br>\n",
    "changes made in array does not affect copy.<br>\n",
    "## view():\n",
    "view does not own the data.<br>\n",
    "any changes made in array affect the view<br>\n",
    "changea made in view affect array.<br>"
   ]
  },
  {
   "cell_type": "code",
   "execution_count": null,
   "id": "41df3806-c976-4bc0-a9fb-d29877d07ea5",
   "metadata": {},
   "outputs": [],
   "source": [
    "# let's create an array\n",
    "arr=np.array([1,2,3,4,5,6,7,8])\n",
    "print(arr)"
   ]
  },
  {
   "cell_type": "code",
   "execution_count": null,
   "id": "76a933f1-6498-4893-8375-fadc991eb49a",
   "metadata": {},
   "outputs": [],
   "source": [
    "# we see the copy()\n",
    "x = arr.copy()\n",
    "arr[0]=99\n",
    "print(arr)\n",
    "print(x)\n",
    "# we can see in the result the copy does not get affected by change in original"
   ]
  },
  {
   "cell_type": "code",
   "execution_count": 18,
   "id": "82d1a09a-2120-4606-af98-11e4fc7a3a47",
   "metadata": {},
   "outputs": [
    {
     "name": "stdout",
     "output_type": "stream",
     "text": [
      "[99.  2.  3.  4.  5.  6.]\n",
      "[99.  2.  3.  4.  5.  6.]\n"
     ]
    }
   ],
   "source": [
    "# we see the view()\n",
    "y = arr.view()\n",
    "arr[0]=99\n",
    "print(arr)\n",
    "print(y)\n",
    "# we can see in the result the both get affeccted by view()"
   ]
  },
  {
   "cell_type": "markdown",
   "id": "87eb1dea-966e-49a7-801e-f1df347d80e4",
   "metadata": {},
   "source": [
    "## check the origanal data by base\n",
    "if we get none then array own its data.<br>\n",
    "other wise base attrribute reffers original data.<br>\n",
    "we can use it to find original data if we make a lot of changes.<br>"
   ]
  },
  {
   "cell_type": "code",
   "execution_count": 19,
   "id": "a05e619b-b217-48c4-aa1c-211264e45080",
   "metadata": {},
   "outputs": [
    {
     "name": "stdout",
     "output_type": "stream",
     "text": [
      "None\n"
     ]
    },
    {
     "ename": "NameError",
     "evalue": "name 'x' is not defined",
     "output_type": "error",
     "traceback": [
      "\u001b[1;31m---------------------------------------------------------------------------\u001b[0m",
      "\u001b[1;31mNameError\u001b[0m                                 Traceback (most recent call last)",
      "Cell \u001b[1;32mIn[19], line 4\u001b[0m\n\u001b[0;32m      2\u001b[0m \u001b[38;5;28mprint\u001b[39m(arr\u001b[38;5;241m.\u001b[39mbase)\n\u001b[0;32m      3\u001b[0m \u001b[38;5;66;03m# x is an array with copy\u001b[39;00m\n\u001b[1;32m----> 4\u001b[0m \u001b[38;5;28mprint\u001b[39m(x\u001b[38;5;241m.\u001b[39mbase)\n\u001b[0;32m      5\u001b[0m \u001b[38;5;66;03m# y is an array with view\u001b[39;00m\n\u001b[0;32m      6\u001b[0m \u001b[38;5;28mprint\u001b[39m(y\u001b[38;5;241m.\u001b[39mbase)\n",
      "\u001b[1;31mNameError\u001b[0m: name 'x' is not defined"
     ]
    }
   ],
   "source": [
    "# original data\n",
    "print(arr.base)\n",
    "# x is an array with copy\n",
    "print(x.base)\n",
    "# y is an array with view\n",
    "print(y.base)"
   ]
  },
  {
   "cell_type": "markdown",
   "id": "6d5f953b-65f3-46be-a6a3-1812fa016f78",
   "metadata": {},
   "source": [
    "# shape of an array and reahapig of array\n",
    "it returns the tuple having number of elements in each dimention<br>"
   ]
  },
  {
   "cell_type": "code",
   "execution_count": 20,
   "id": "7e42c732-f02d-42a9-9df4-06750558bd9d",
   "metadata": {},
   "outputs": [
    {
     "name": "stdout",
     "output_type": "stream",
     "text": [
      "[[[ 1  2  3  4  5]\n",
      "  [ 6  7  8  9 10]\n",
      "  [11 12 13 14 15]]]\n",
      "(1, 3, 5)\n"
     ]
    }
   ],
   "source": [
    "# creating 3 lists\n",
    "l1=[1,2,3,4,5]\n",
    "l2=[6,7,8,9,10]\n",
    "l3=[11,12,13,14,15]\n",
    "# creating an array\n",
    "arr=np.array([[l1,l2,l3]])\n",
    "print(arr)\n",
    "print(arr.shape)\n",
    "# output means that 1st dimension have one element, 2nd dimension have three elements, 3rd dimension have 5 elements each."
   ]
  },
  {
   "cell_type": "code",
   "execution_count": 21,
   "id": "fef32ed0-d018-4404-b8a3-71cc504e040f",
   "metadata": {},
   "outputs": [
    {
     "name": "stdout",
     "output_type": "stream",
     "text": [
      "[[ 1  2  3  4  5  6  7  8  9 10 11 12 13 14 15]]\n",
      "(1, 15)\n"
     ]
    }
   ],
   "source": [
    "# reahaping this array into 1 dimesions\n",
    "new_arr=arr.reshape(1,15)\n",
    "print(new_arr)\n",
    "print(new_arr.shape)"
   ]
  },
  {
   "cell_type": "code",
   "execution_count": 22,
   "id": "ff43f833-1a96-4aab-afe9-26904506a979",
   "metadata": {},
   "outputs": [
    {
     "name": "stdout",
     "output_type": "stream",
     "text": [
      "[[[ 1  2  3  4  5]\n",
      "  [ 6  7  8  9 10]\n",
      "  [11 12 13 14 15]]]\n"
     ]
    }
   ],
   "source": [
    "# if we check the change dimension have original elements or not\n",
    "print(new_arr.base)\n",
    "#we get the original array it is view()"
   ]
  },
  {
   "cell_type": "markdown",
   "id": "0c91eb3b-0d4b-4087-9277-ad0b15d043d8",
   "metadata": {},
   "source": [
    "## unknown dimension and flatter the array\n",
    "if we don't know the dimension use the reshape(dim,dim,-1)<br>\n",
    "using reshape(-1) we can convert array to 1 dimensional<br>"
   ]
  },
  {
   "cell_type": "code",
   "execution_count": 23,
   "id": "3b276363-bc57-4fac-8fc3-159cfecb6a05",
   "metadata": {},
   "outputs": [
    {
     "name": "stdout",
     "output_type": "stream",
     "text": [
      "[ 1  2  3  4  5  6  7  8  9 10 11 12 13 14 15]\n"
     ]
    }
   ],
   "source": [
    "# flattering the array\n",
    "print(arr.reshape(-1))"
   ]
  },
  {
   "cell_type": "code",
   "execution_count": 24,
   "id": "1d4ea85a-2a0a-484b-9424-e61e59124b6e",
   "metadata": {},
   "outputs": [
    {
     "name": "stdout",
     "output_type": "stream",
     "text": [
      "[[[ 1  2]\n",
      "  [ 3  4]\n",
      "  [ 5  6]\n",
      "  [ 7  8]]\n",
      "\n",
      " [[ 9 10]\n",
      "  [11 12]\n",
      "  [13 14]\n",
      "  [15 16]]]\n"
     ]
    }
   ],
   "source": [
    "# if we dont know dimension but know about arrangment\n",
    "arr=np.array([1,2,3,4,5,6,7,8,9,10,11,12,13,14,15,16])\n",
    "new_arr=arr.reshape(2,4,-1)\n",
    "print(new_arr)"
   ]
  },
  {
   "cell_type": "markdown",
   "id": "478d88a6-d996-40ba-9f6c-adb6173857a3",
   "metadata": {},
   "source": [
    "# iterating through array\n",
    "## iterating through 1D,2D,3D array\n",
    "we iterate through array using for loop.<br>\n",
    "we have to use for loop according to dimensions to iterate through  all elements."
   ]
  },
  {
   "cell_type": "markdown",
   "id": "8fabbe69-a1d1-40fc-906a-7b2d9f1b3505",
   "metadata": {},
   "source": [
    "## iterating through 1D array"
   ]
  },
  {
   "cell_type": "code",
   "execution_count": 25,
   "id": "39ba9317-3a52-4b14-bcb1-1b109ca6e1d7",
   "metadata": {},
   "outputs": [
    {
     "name": "stdout",
     "output_type": "stream",
     "text": [
      "1\n",
      "2\n",
      "3\n",
      "4\n",
      "5\n",
      "6\n",
      "iterating through each element of 1D array\n"
     ]
    }
   ],
   "source": [
    "# iterate through 1D array\n",
    "arr=np.array([1,2,3,4,5,6])\n",
    "for x in arr:\n",
    "    print(x)\n",
    "print(\"iterating through each element of 1D array\")"
   ]
  },
  {
   "cell_type": "code",
   "execution_count": 26,
   "id": "2e1d4a1e-870f-45ff-b951-128becea8162",
   "metadata": {},
   "outputs": [
    {
     "name": "stdout",
     "output_type": "stream",
     "text": [
      "1\n",
      "iterating through each element of 1D array\n",
      "2\n",
      "iterating through each element of 1D array\n",
      "3\n",
      "iterating through each element of 1D array\n",
      "4\n",
      "iterating through each element of 1D array\n",
      "5\n",
      "iterating through each element of 1D array\n",
      "6\n",
      "iterating through each element of 1D array\n"
     ]
    }
   ],
   "source": [
    "# we have to notice a difference if we use print with tab\n",
    "# here the print is considered in for loop\n",
    "arr=np.array([1,2,3,4,5,6])\n",
    "for x in arr:\n",
    "    print(x)\n",
    "    print(\"iterating through each element of 1D array\")"
   ]
  },
  {
   "cell_type": "markdown",
   "id": "eb2158ab-39ac-44e6-8da4-5214eb462c2d",
   "metadata": {},
   "source": [
    "## iterating through 2D array"
   ]
  },
  {
   "cell_type": "code",
   "execution_count": 27,
   "id": "608a1f0c-93c3-4611-8914-603a02aa9311",
   "metadata": {},
   "outputs": [
    {
     "name": "stdout",
     "output_type": "stream",
     "text": [
      "iteating towards 1st dimension elements\n",
      "[1 2 3]\n",
      "iteating towards 1st dimension elements\n",
      "[4 5 6]\n"
     ]
    }
   ],
   "source": [
    "# ierating through a 2D array\n",
    "# iterating through 1st dimension\n",
    "arr=np.array([[1,2,3],[4,5,6]])\n",
    "for x in arr:\n",
    "    print(\"iteating towards 1st dimension elements\")\n",
    "    print(x)"
   ]
  },
  {
   "cell_type": "code",
   "execution_count": 28,
   "id": "47a43524-7851-4f53-94a6-a916f1e54840",
   "metadata": {},
   "outputs": [
    {
     "name": "stdout",
     "output_type": "stream",
     "text": [
      "dimension of array: 2\n",
      "origanility of elements: None\n",
      "1\n",
      "2\n",
      "3\n",
      "4\n",
      "5\n",
      "6\n",
      "hrer we get the actual elements.\n"
     ]
    }
   ],
   "source": [
    "#iterating through the 2nd dimension so we get the actual elements\n",
    "print(\"dimension of array:\",arr.ndim)\n",
    "print(\"origanility of elements:\",arr.base)\n",
    "for x in arr:\n",
    "    for y in x:\n",
    "        print(y)\n",
    "print(\"hrer we get the actual elements.\")"
   ]
  },
  {
   "cell_type": "markdown",
   "id": "26f787df-4cd3-47ca-bdc1-3b997a68177a",
   "metadata": {},
   "source": [
    "## iterating through 3D array"
   ]
  },
  {
   "cell_type": "code",
   "execution_count": 29,
   "id": "55ebe196-466d-48f3-926f-4586c27cd051",
   "metadata": {},
   "outputs": [
    {
     "name": "stdout",
     "output_type": "stream",
     "text": [
      "[[[ 1  2  3]\n",
      "  [ 4  5  6]\n",
      "  [ 7  8  9]]\n",
      "\n",
      " [[11 22 33]\n",
      "  [44 55 66]\n",
      "  [77 88 99]]]\n"
     ]
    }
   ],
   "source": [
    "# creating 1D array with 18 elements\n",
    "arr=np.array([1,2,3,4,5,6,7,8,9,11,22,33,44,55,66,77,88,99])\n",
    "# reshaping array into 3 dimensions\n",
    "narr=arr.reshape(2,3,3)\n",
    "print(narr)"
   ]
  },
  {
   "cell_type": "code",
   "execution_count": 30,
   "id": "d9e3d355-2f62-4241-9e7b-dc085b856bf1",
   "metadata": {},
   "outputs": [
    {
     "name": "stdout",
     "output_type": "stream",
     "text": [
      "[[1 2 3]\n",
      " [4 5 6]\n",
      " [7 8 9]]\n",
      "[[11 22 33]\n",
      " [44 55 66]\n",
      " [77 88 99]]\n"
     ]
    }
   ],
   "source": [
    "# iterating through 1st dimensiion\n",
    "for x in narr:\n",
    "    print(x)"
   ]
  },
  {
   "cell_type": "code",
   "execution_count": 31,
   "id": "45464994-f086-48c2-bd54-0bac6f22342d",
   "metadata": {},
   "outputs": [
    {
     "name": "stdout",
     "output_type": "stream",
     "text": [
      "[1 2 3]\n",
      "[4 5 6]\n",
      "[7 8 9]\n",
      "[11 22 33]\n",
      "[44 55 66]\n",
      "[77 88 99]\n"
     ]
    }
   ],
   "source": [
    "# iterating through 2nd dimension\n",
    "for x in narr:\n",
    "    for y in x:\n",
    "        print(y)"
   ]
  },
  {
   "cell_type": "code",
   "execution_count": 32,
   "id": "7040c709-647b-44f0-9dd7-4c241d1c37f7",
   "metadata": {},
   "outputs": [
    {
     "name": "stdout",
     "output_type": "stream",
     "text": [
      "1\n",
      "2\n",
      "3\n",
      "4\n",
      "5\n",
      "6\n",
      "7\n",
      "8\n",
      "9\n",
      "11\n",
      "22\n",
      "33\n",
      "44\n",
      "55\n",
      "66\n",
      "77\n",
      "88\n",
      "99\n"
     ]
    }
   ],
   "source": [
    "# iterating through 3rd dimension \n",
    "# here we get actual elements\n",
    "for x in narr:\n",
    "    for y in x:\n",
    "        for z in y:\n",
    "            print(z)"
   ]
  },
  {
   "cell_type": "markdown",
   "id": "024564bb-a675-4145-a694-164a741cb55b",
   "metadata": {},
   "source": [
    "## use of nditer()\n",
    "we can iterate through  each element<br>\n",
    "we can iterate with stepping size<br>\n",
    "we can iterate with different data types"
   ]
  },
  {
   "cell_type": "code",
   "execution_count": 33,
   "id": "53591586-2870-4a3c-a518-298703ddedd7",
   "metadata": {},
   "outputs": [
    {
     "name": "stdout",
     "output_type": "stream",
     "text": [
      "[[[ 1  2  3]\n",
      "  [ 4  5  6]]\n",
      "\n",
      " [[ 7  8  9]\n",
      "  [10 11 12]]]\n",
      "1\n",
      "2\n",
      "3\n",
      "4\n",
      "5\n",
      "6\n",
      "7\n",
      "8\n",
      "9\n",
      "10\n",
      "11\n",
      "12\n"
     ]
    }
   ],
   "source": [
    "# iterating theough each element \n",
    "# we can also use flatter(reshape(-1))\n",
    "arr=np.array([[[1,2,3],[4,5,6]],[[7,8,9],[10,11,12]]])\n",
    "print(arr)\n",
    "for x in np.nditer(arr):\n",
    "    print(x)"
   ]
  },
  {
   "cell_type": "code",
   "execution_count": 34,
   "id": "cd5b2f4d-8412-40d3-959f-f6f25cccc17d",
   "metadata": {},
   "outputs": [
    {
     "name": "stdout",
     "output_type": "stream",
     "text": [
      "iterating with stepping:\n",
      "1\n",
      "3\n",
      "4\n",
      "6\n",
      "7\n",
      "9\n",
      "10\n",
      "12\n"
     ]
    }
   ],
   "source": [
    "# iterating with stapping\n",
    "# iterrating through first row\n",
    "print(\"iterating with stepping:\")\n",
    "for y in np.nditer(arr[:,:,::2]):\n",
    "    print(y)"
   ]
  },
  {
   "cell_type": "code",
   "execution_count": 35,
   "id": "1ed5f616-d578-4718-bf98-b22838f25f41",
   "metadata": {},
   "outputs": [
    {
     "name": "stdout",
     "output_type": "stream",
     "text": [
      "itereating with stepping:\n",
      "np.bytes_(b'1')\n",
      "np.bytes_(b'2')\n",
      "np.bytes_(b'3')\n",
      "np.bytes_(b'4')\n",
      "np.bytes_(b'5')\n",
      "np.bytes_(b'6')\n",
      "np.bytes_(b'7')\n",
      "np.bytes_(b'8')\n",
      "np.bytes_(b'9')\n",
      "np.bytes_(b'10')\n",
      "np.bytes_(b'11')\n",
      "np.bytes_(b'12')\n"
     ]
    }
   ],
   "source": [
    "# itreating selecting datatype\n",
    "print(\"itereating with stepping:\")\n",
    "for z in np.nditer(arr, flags=[\"buffered\"], op_dtypes=[\"S\"]):\n",
    "    print(z)"
   ]
  },
  {
   "cell_type": "markdown",
   "id": "092784d4-6b0e-4315-a4f0-522323f6ad0b",
   "metadata": {},
   "source": [
    "## enumerate\n",
    "it will give indexing of array elements"
   ]
  },
  {
   "cell_type": "code",
   "execution_count": 36,
   "id": "bca0e92d-570d-45d8-80de-2d9d34488877",
   "metadata": {},
   "outputs": [
    {
     "name": "stdout",
     "output_type": "stream",
     "text": [
      "iterating through position (0, 0, 0)\n",
      "(0, 0, 0) 1\n",
      "iterating through position (0, 0, 1)\n",
      "(0, 0, 1) 2\n",
      "iterating through position (0, 0, 2)\n",
      "(0, 0, 2) 3\n",
      "iterating through position (0, 1, 0)\n",
      "(0, 1, 0) 4\n",
      "iterating through position (0, 1, 1)\n",
      "(0, 1, 1) 5\n",
      "iterating through position (0, 1, 2)\n",
      "(0, 1, 2) 6\n",
      "iterating through position (1, 0, 0)\n",
      "(1, 0, 0) 7\n",
      "iterating through position (1, 0, 1)\n",
      "(1, 0, 1) 8\n",
      "iterating through position (1, 0, 2)\n",
      "(1, 0, 2) 9\n",
      "iterating through position (1, 1, 0)\n",
      "(1, 1, 0) 10\n",
      "iterating through position (1, 1, 1)\n",
      "(1, 1, 1) 11\n",
      "iterating through position (1, 1, 2)\n",
      "(1, 1, 2) 12\n",
      "\n",
      "\n",
      "iterating through 1D array:\n",
      "(0,) 1\n",
      "(1,) 2\n",
      "(2,) 3\n",
      "(3,) 4\n",
      "(4,) 5\n",
      "(5,) 6\n",
      "(6,) 7\n",
      "(7,) 8\n",
      "(8,) 9\n",
      "(9,) 10\n",
      "(10,) 11\n",
      "(11,) 12\n"
     ]
    }
   ],
   "source": [
    "# we will iterate through 3D array\n",
    "for idx,x in np.ndenumerate(arr):\n",
    "    print(\"iterating through position\",idx)\n",
    "    print(idx,x)\n",
    "\n",
    "# giving space by \\n\n",
    "print(\"\\n\")\n",
    "\n",
    "# we will flatter array and then iterate through each element\n",
    "new_arr=arr.reshape(-1)\n",
    "print(\"iterating through 1D array:\")\n",
    "for idx,y in np.ndenumerate(new_arr):\n",
    "    print(idx,y)"
   ]
  },
  {
   "cell_type": "markdown",
   "id": "14ad75ee-2322-4805-9d12-0dcbe1da1e47",
   "metadata": {},
   "source": [
    "# joining of array\n",
    "- we join array by axse<br>\n",
    "- joining means putting data of two or more array in one array"
   ]
  },
  {
   "cell_type": "markdown",
   "id": "a6dc24f5-51b6-4f2b-baf2-3648f71eafb7",
   "metadata": {},
   "source": [
    "## joining by concatenate()\n",
    "- join array along existating axis\n",
    "- array must have same shape expect array going to concatenate\n",
    "- axis=1 means by row<br>\n",
    "- axis=0 means by column<br>"
   ]
  },
  {
   "cell_type": "markdown",
   "id": "491d3b85-42b3-4242-a779-172301fd5dca",
   "metadata": {},
   "source": [
    "## joining array by stack function\n",
    "- stack function generates a new axis\n",
    "- both array must have sameshape\n",
    "- if you are using only  stack then use axis=1(row) or 0(column)<br>\n",
    "- there is another option use:<br>\n",
    "  hstack to go along row<br>\n",
    "  vstack to go along column<br>\n",
    "  dstack to go along height<br>"
   ]
  },
  {
   "cell_type": "code",
   "execution_count": 37,
   "id": "5808c125-2d38-4194-8864-86c3bbdd6427",
   "metadata": {},
   "outputs": [
    {
     "name": "stdout",
     "output_type": "stream",
     "text": [
      "array with concatnation:\n",
      "[ 1  2  3  4  5  6  7  8  9 10]\n",
      "(10,)\n",
      "array with stack:\n",
      "[[ 1  2  3  4  5]\n",
      " [ 6  7  8  9 10]]\n",
      "(2, 5)\n"
     ]
    }
   ],
   "source": [
    "l1=[1,2,3,4,5]\n",
    "l2=[6,7,8,9,10]\n",
    "arr1=np.array(l1)\n",
    "arr2=np.array(l2)\n",
    "arr_c=np.concatenate((arr1,arr2))\n",
    "arr_s=np.stack((arr1,arr2))\n",
    "print(\"array with concatnation:\")\n",
    "print(arr_c)\n",
    "print(arr_c.shape)\n",
    "print(\"array with stack:\")\n",
    "print(arr_s)\n",
    "print(arr_s.shape)"
   ]
  },
  {
   "cell_type": "code",
   "execution_count": 38,
   "id": "2d0d8d68-d6a7-429b-a0e2-17c41c7c5b31",
   "metadata": {},
   "outputs": [
    {
     "name": "stdout",
     "output_type": "stream",
     "text": [
      "[[1 2 5 6]\n",
      " [3 4 7 8]]\n",
      "(2, 4)\n"
     ]
    }
   ],
   "source": [
    "arr1=np.array([[1,2],[3,4]])\n",
    "arr2=np.array([[5,6],[7,8]])\n",
    "arr=np.concatenate((arr1,arr2),axis=1)\n",
    "# we give here axis=1 so compiler first go through row 1 and then by row 2\n",
    "print(arr)\n",
    "print(arr.shape)"
   ]
  },
  {
   "cell_type": "code",
   "execution_count": 40,
   "id": "53be37b4-a6fb-498e-9eb8-6ff2f33b8703",
   "metadata": {},
   "outputs": [
    {
     "name": "stdout",
     "output_type": "stream",
     "text": [
      "array going through columns:\n",
      "(4,)\n",
      "[[1 5]\n",
      " [2 6]\n",
      " [3 7]\n",
      " [4 8]]\n"
     ]
    }
   ],
   "source": [
    "arr1=np.array([1,2,3,4])\n",
    "arr2=np.array([5,6,7,8])\n",
    "arr_1=np.stack((arr1,arr2),axis=1)\n",
    "print(\"array going through columns:\")\n",
    "print(arr1.shape)\n",
    "print(arr_1)"
   ]
  },
  {
   "cell_type": "code",
   "execution_count": 41,
   "id": "a2397117-069d-470c-b288-cb007bcf6e09",
   "metadata": {},
   "outputs": [
    {
     "name": "stdout",
     "output_type": "stream",
     "text": [
      "[1 2 3 4 5 6 7 8]\n"
     ]
    }
   ],
   "source": [
    "# using hstack to go along row\n",
    "arr1=np.array([1,2,3,4])\n",
    "arr2=np.array([5,6,7,8])\n",
    "arr=np.hstack((arr1,arr2))\n",
    "print(arr)"
   ]
  },
  {
   "cell_type": "code",
   "execution_count": 45,
   "id": "c5f70759-885b-4364-ae1a-2f61d0c11b8f",
   "metadata": {},
   "outputs": [
    {
     "name": "stdout",
     "output_type": "stream",
     "text": [
      "originality of array: None\n",
      "size of array (2, 4)\n",
      "[[1 2 3 4]\n",
      " [5 6 7 8]]\n"
     ]
    }
   ],
   "source": [
    "# using vstack to go along column\n",
    "arr=np.vstack((arr1,arr2))\n",
    "print(\"originality of array:\",arr.base)\n",
    "print(\"size of array\",arr.shape)\n",
    "print(arr)"
   ]
  },
  {
   "cell_type": "code",
   "execution_count": 46,
   "id": "c463edc7-148c-40bf-b962-523cab91c08d",
   "metadata": {},
   "outputs": [
    {
     "name": "stdout",
     "output_type": "stream",
     "text": [
      "originality of array: None\n",
      "size of array (1, 4, 2)\n",
      "[[[1 5]\n",
      "  [2 6]\n",
      "  [3 7]\n",
      "  [4 8]]]\n"
     ]
    }
   ],
   "source": [
    "# using dstack to go along depth\n",
    "arr=np.dstack((arr1,arr2))\n",
    "print(\"originality of array:\",arr.base)\n",
    "print(\"size of array\",arr.shape)\n",
    "print(arr)"
   ]
  },
  {
   "cell_type": "markdown",
   "id": "672ae224-f0d4-4257-b178-2468e145f502",
   "metadata": {},
   "source": [
    "# splitting of an array\n",
    "- we can break one array into multiple<br>\n",
    "- use array_split() function<br>"
   ]
  },
  {
   "cell_type": "code",
   "execution_count": 48,
   "id": "1a74ee73-6c54-4b4b-9146-c9baa20f8706",
   "metadata": {},
   "outputs": [
    {
     "name": "stdout",
     "output_type": "stream",
     "text": [
      "[array([1, 2, 3]), array([4, 5, 6]), array([7, 8, 9])]\n"
     ]
    }
   ],
   "source": [
    "# breaking of array into muliple arrays\n",
    "arr=np.array([1,2,3,4,5,6,7,8,9])\n",
    "newarr=np.array_split(arr,3)\n",
    "print(newarr)"
   ]
  },
  {
   "cell_type": "code",
   "execution_count": 50,
   "id": "3843fe4e-cc0d-497d-a410-bc65844f4c71",
   "metadata": {},
   "outputs": [
    {
     "name": "stdout",
     "output_type": "stream",
     "text": [
      "0th position element of array: [1 2 3]\n",
      "1st position element of array: [4 5 6]\n",
      "2nd position element of array: [7 8 9]\n"
     ]
    }
   ],
   "source": [
    "# we can take split array as new elements\n",
    "print(\"0th position element of array:\",newarr[0])\n",
    "print(\"1st position element of array:\",newarr[1])\n",
    "print(\"2nd position element of array:\",newarr[2])"
   ]
  },
  {
   "cell_type": "code",
   "execution_count": 52,
   "id": "7df4787d-7cc6-4b8c-8b98-1a76d2ab6d32",
   "metadata": {},
   "outputs": [
    {
     "name": "stdout",
     "output_type": "stream",
     "text": [
      "[array([[1, 2, 3],\n",
      "       [4, 5, 6]]), array([[ 7,  8,  9],\n",
      "       [10, 11, 12]]), array([[13, 14, 15],\n",
      "       [16, 17, 18]])]\n"
     ]
    }
   ],
   "source": [
    "# splitting of a 2D array\n",
    "arr=np.array([[1, 2, 3], [4, 5, 6], [7, 8, 9], [10, 11, 12], [13, 14, 15], [16, 17, 18]])\n",
    "newarr=np.array_split(arr,3)\n",
    "print(newarr)"
   ]
  },
  {
   "cell_type": "markdown",
   "id": "c727de10-0e14-47ee-a901-50ee0d6f0fb9",
   "metadata": {},
   "source": [
    "use hsplit() method to split along vertical"
   ]
  },
  {
   "cell_type": "code",
   "execution_count": 53,
   "id": "b6ac9d3a-28cf-442a-85b0-7aad7b3c2d6f",
   "metadata": {},
   "outputs": [
    {
     "name": "stdout",
     "output_type": "stream",
     "text": [
      "[array([[ 1],\n",
      "       [ 4],\n",
      "       [ 7],\n",
      "       [10],\n",
      "       [13],\n",
      "       [16]]), array([[ 2],\n",
      "       [ 5],\n",
      "       [ 8],\n",
      "       [11],\n",
      "       [14],\n",
      "       [17]]), array([[ 3],\n",
      "       [ 6],\n",
      "       [ 9],\n",
      "       [12],\n",
      "       [15],\n",
      "       [18]])]\n"
     ]
    }
   ],
   "source": [
    "newarr=np.hsplit(arr,3)\n",
    "print(newarr)"
   ]
  },
  {
   "cell_type": "markdown",
   "id": "6e69a006-0beb-4fbf-ac2c-04d9e9a8d042",
   "metadata": {},
   "source": [
    "# searching into an array \n",
    "## using the where() method\n",
    "- it will give the position of particular element"
   ]
  },
  {
   "cell_type": "code",
   "execution_count": 55,
   "id": "3dabef7d-75f6-45e8-92da-6b62d4c7f2ac",
   "metadata": {},
   "outputs": [
    {
     "name": "stdout",
     "output_type": "stream",
     "text": [
      "position of element 6 is  (array([2, 5, 7]),)\n"
     ]
    }
   ],
   "source": [
    "# we are using where method to find element position\n",
    "arr=np.array([23,53,6,34,76,6,35,6])\n",
    "x=np.where(arr==6)\n",
    "print(\"positions of element 6 is \",x)"
   ]
  },
  {
   "cell_type": "code",
   "execution_count": 56,
   "id": "6014d9f3-0707-4122-9c07-b21db2c06772",
   "metadata": {},
   "outputs": [
    {
     "name": "stdout",
     "output_type": "stream",
     "text": [
      "positions of even numbers are: (array([2, 3, 4, 5, 7]),)\n"
     ]
    }
   ],
   "source": [
    "# we are going to search position of even numbers\n",
    "x=np.where(arr%2==0)\n",
    "print(\"positions of even numbers are:\",x)"
   ]
  },
  {
   "cell_type": "markdown",
   "id": "b9ded3f9-cdb5-4e13-80e4-242615d4698c",
   "metadata": {},
   "source": [
    "## using the search sorted() function\n",
    "- it gives a position where the particular number can be insertes to maintain the order.\n",
    "- we can use side=\"right\" to find particular position from right side\n",
    "- it is assusmed to be we use the searchsorted() function on sorted array"
   ]
  },
  {
   "cell_type": "code",
   "execution_count": 61,
   "id": "b2d22c0d-163e-4576-af90-d9b2f1dff47d",
   "metadata": {},
   "outputs": [
    {
     "name": "stdout",
     "output_type": "stream",
     "text": [
      "searching position for single element: 4\n",
      "searching position for mutiple elements: [0 0 2 5 6]\n"
     ]
    }
   ],
   "source": [
    "arr=np.array([11,15,18,19,22,45])\n",
    "x=np.searchsorted(arr,20)\n",
    "y=np.searchsorted(arr,[2,7,16,38,50])\n",
    "print(\"searching position for single element:\",x)\n",
    "print(\"searching position for mutiple elements:\",y)"
   ]
  },
  {
   "cell_type": "markdown",
   "id": "c97b4749-4a03-4984-9601-ad6754c41bb1",
   "metadata": {},
   "source": [
    "# sorting of array\n",
    "- arranging array in an inceasing order.\n",
    "- we use np.sort(name_of_array) function."
   ]
  },
  {
   "cell_type": "code",
   "execution_count": 62,
   "id": "f0bd851e-395a-46b5-b611-19a7b545478b",
   "metadata": {},
   "outputs": [
    {
     "name": "stdout",
     "output_type": "stream",
     "text": [
      "[ 0  2  7 11 23 43 45 56 76]\n"
     ]
    }
   ],
   "source": [
    "# example for integer array\n",
    "arr=np.array([11,43,56,23,7,2,0,45,76])\n",
    "print(np.sort(arr))"
   ]
  },
  {
   "cell_type": "code",
   "execution_count": 64,
   "id": "a76d7f5d-5e44-4a7f-8041-f533f44326c3",
   "metadata": {},
   "outputs": [
    {
     "name": "stdout",
     "output_type": "stream",
     "text": [
      "['a' 'app' 'f' 'f' 'kri' 'r' 'rs' 'w']\n"
     ]
    }
   ],
   "source": [
    "# example for character array\n",
    "arr=np.array(['a','f','r','w','f','kri','app','rs'])\n",
    "print(np.sort(arr))"
   ]
  },
  {
   "cell_type": "code",
   "execution_count": 67,
   "id": "488ba38a-2107-4066-aeaf-98c1d1cb8a99",
   "metadata": {},
   "outputs": [
    {
     "name": "stdout",
     "output_type": "stream",
     "text": [
      "[[ 1  2  3  6 33]\n",
      " [23 23 34 34 56]]\n"
     ]
    }
   ],
   "source": [
    "# sorting a 2D array\n",
    "arr=np.array([[2,6,33,3,1],[34,56,34,23,23]])\n",
    "print(np.sort(arr))"
   ]
  },
  {
   "cell_type": "markdown",
   "id": "dc2613ed-67af-47e2-b4db-53c1983c8be5",
   "metadata": {},
   "source": [
    "# filtering of array\n",
    "- a boolian list along index/position is created.\n",
    "- if the index have true then that element is considered.\n",
    "- if the index have flase then the element is not considered."
   ]
  },
  {
   "cell_type": "code",
   "execution_count": 71,
   "id": "7c4f94a9-9be9-4ac3-b4d0-aa114f3c9ca7",
   "metadata": {},
   "outputs": [
    {
     "name": "stdout",
     "output_type": "stream",
     "text": [
      "initial array: [ 1  2  3  4  5  6  7  8  9 10 11 12 13 14 15]\n",
      "boolian list after filtering: [False, True, False, True, False, True, False, True, False, True, False, True, False, True, False]\n",
      "fineal array of even numbers: [ 2  4  6  8 10 12 14]\n"
     ]
    }
   ],
   "source": [
    "# we are going to filter all even numbers from array\n",
    "# lets create an array\n",
    "arr=np.array([1,2,3,4,5,6,7,8,9,10,11,12,13,14,15])\n",
    "# create an empty list to store the booline values\n",
    "bool_list=[]\n",
    "# creating a for loop to iterate through array elements\n",
    "for el in arr:\n",
    "    if el%2==0:\n",
    "        bool_list.append(True)\n",
    "    else:\n",
    "        bool_list.append(False)\n",
    "# creating an array for even numbers using bool_list\n",
    "newarr=arr[bool_list]\n",
    "print(\"initial array:\",arr)\n",
    "print(\"boolian list after filtering:\",bool_list)\n",
    "print(\"fineal array of even numbers:\",newarr)"
   ]
  }
 ],
 "metadata": {
  "kernelspec": {
   "display_name": "Python [conda env:base] *",
   "language": "python",
   "name": "conda-base-py"
  },
  "language_info": {
   "codemirror_mode": {
    "name": "ipython",
    "version": 3
   },
   "file_extension": ".py",
   "mimetype": "text/x-python",
   "name": "python",
   "nbconvert_exporter": "python",
   "pygments_lexer": "ipython3",
   "version": "3.13.5"
  }
 },
 "nbformat": 4,
 "nbformat_minor": 5
}
